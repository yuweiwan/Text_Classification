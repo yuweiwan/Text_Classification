{
 "cells": [
  {
   "cell_type": "code",
   "execution_count": 1,
   "metadata": {},
   "outputs": [],
   "source": [
    "import numpy as np\n",
    "import pandas as pd\n",
    "from gensim import models\n",
    "from sklearn.feature_extraction.text import TfidfVectorizer\n",
    "import joblib"
   ]
  },
  {
   "cell_type": "markdown",
   "metadata": {},
   "source": [
    "## 加载训练集文件和测试集文件"
   ]
  },
  {
   "cell_type": "code",
   "execution_count": 2,
   "metadata": {},
   "outputs": [],
   "source": [
    "data_text,data=[],[]\n",
    "stopWords=[]\n",
    "\n",
    "def load_data():\n",
    "    '''\n",
    "    函数说明：该函数用于加载数据集\n",
    "    return: \n",
    "        -data: 表示所有数据拼接的原始数据\n",
    "        -data_text: 表示数据集中的特征数据集\n",
    "        -datatext: 表示经过分词之后的特征数据集\n",
    "        -stopWords: 表示读取的停用词\n",
    "    '''\n",
    "    print('load Pre_process')\n",
    "    data = pd.concat([\n",
    "        pd.read_csv('/home/user10000411/dataset/图书分类文本数据集/train_clean.csv', sep='\\t'),\n",
    "        pd.read_csv('/home/user10000411/dataset/图书分类文本数据集/dev_clean.csv', sep='\\t'),\n",
    "        pd.read_csv('/home/user10000411/dataset/图书分类文本数据集/test_clean.csv', sep='\\t')\n",
    "        ])\n",
    "    print(\"读取数据集完成\")\n",
    "    data_text = list(data.text)  # .apply(lambda x: x.split(' '))\n",
    "    datatext = []\n",
    "    for i in range(len(data_text)):\n",
    "        datatext.append(data_text[i].split(' '))\n",
    "    stopWords = open('stopwords.txt').readlines()\n",
    "    print(\"取停用词完成\")\n",
    "    return data, data_text,datatext, stopWords\n"
   ]
  },
  {
   "cell_type": "code",
   "execution_count": 3,
   "metadata": {},
   "outputs": [
    {
     "name": "stdout",
     "output_type": "stream",
     "text": [
      "load Pre_process\n",
      "读取数据集完成\n",
      "取停用词完成\n"
     ]
    }
   ],
   "source": [
    "data, data_text, datatext, stopWords=load_data()"
   ]
  },
  {
   "cell_type": "code",
   "execution_count": 7,
   "metadata": {},
   "outputs": [],
   "source": [
    "def trainer_tfidf():\n",
    "    '''\n",
    "    函数说明：该函数用于训练tfidf的词向量\n",
    "    return: \n",
    "        -tfidf: 表示经过TF-ID模型训练出的词向量\n",
    "    '''\n",
    "    count_vect = TfidfVectorizer(stop_words=stopWords, max_df=0.6, ngram_range=(1,2))\n",
    "    tfidf = count_vect.fit(data_text)\n",
    "    print('train tfidf_embedding')\n",
    "    #返回是一个稀疏矩阵\n",
    "    return tfidf\n"
   ]
  },
  {
   "cell_type": "code",
   "execution_count": 8,
   "metadata": {},
   "outputs": [
    {
     "name": "stdout",
     "output_type": "stream",
     "text": [
      "train tfidf_embedding\n"
     ]
    }
   ],
   "source": [
    "tfidf = trainer_tfidf()"
   ]
  },
  {
   "cell_type": "code",
   "execution_count": 9,
   "metadata": {},
   "outputs": [],
   "source": [
    "def trainer_w2v():\n",
    "    '''\n",
    "    函数说明：该函数基于Word2vec模型训练词向量\n",
    "    return: \n",
    "        -w2v: 表示经过word2vec模型训练出的词向量\n",
    "    '''\n",
    "    print('train word2vec Embedding')\n",
    "    w2v = models.Word2Vec(min_count=2,\n",
    "                                window=3,\n",
    "                                size=300,\n",
    "                                sample=6e-5,\n",
    "                                alpha=0.03,\n",
    "                                min_alpha=0.0007,\n",
    "                                negative=15,\n",
    "                                workers=4,\n",
    "                                iter=10,\n",
    "                                max_vocab_size=50000) \n",
    "        \n",
    "    w2v.build_vocab(datatext)\n",
    "\n",
    "    w2v.train(datatext,\n",
    "              total_examples=w2v.corpus_count,\n",
    "              epochs=15,\n",
    "              report_delay=1)\n",
    "    return w2v"
   ]
  },
  {
   "cell_type": "code",
   "execution_count": 10,
   "metadata": {},
   "outputs": [
    {
     "name": "stdout",
     "output_type": "stream",
     "text": [
      "train word2vec Embedding\n"
     ]
    }
   ],
   "source": [
    "w2v = trainer_w2v()"
   ]
  },
  {
   "cell_type": "code",
   "execution_count": 11,
   "metadata": {},
   "outputs": [],
   "source": [
    "def trainer_fasttext():\n",
    "    '''\n",
    "    函数说明：该函数基于FastText模型训练词向量\n",
    "    return: \n",
    "        -fast: 表示经过FastText模型训练出的词向量\n",
    "    '''\n",
    "    # 根据数据集训练FastTExt的词向量\n",
    "    # size：生成的向量维度，\n",
    "    # window: 移动窗口，\n",
    "    # aphla: 学习率，\n",
    "    # min_count: 对低于该频率的词进行截断\n",
    "    print('train fast_embedding')\n",
    "    fast = models.FastText(min_count=2,\n",
    "                                window=3,\n",
    "                                size=300,\n",
    "                                sample=6e-5,\n",
    "                                alpha=0.03,\n",
    "                                min_alpha=0.0007,\n",
    "                                negative=15,\n",
    "                                workers=4,\n",
    "                                iter=10,\n",
    "                                max_vocab_size=50000)\n",
    "    fast.build_vocab(datatext)\n",
    "\n",
    "    fast.train(datatext,\n",
    "              total_examples=fast.corpus_count,\n",
    "              epochs=15,\n",
    "              report_delay=1)\n",
    "    \n",
    "    return fast"
   ]
  },
  {
   "cell_type": "code",
   "execution_count": 12,
   "metadata": {},
   "outputs": [
    {
     "name": "stdout",
     "output_type": "stream",
     "text": [
      "train fast_embedding\n"
     ]
    }
   ],
   "source": [
    "fast= trainer_fasttext()"
   ]
  },
  {
   "cell_type": "code",
   "execution_count": 13,
   "metadata": {},
   "outputs": [
    {
     "name": "stdout",
     "output_type": "stream",
     "text": [
      "save tfidf model\n",
      "save word2vec model\n",
      "save fast model\n"
     ]
    }
   ],
   "source": [
    "def saver():\n",
    "    '''\n",
    "    函数说明：该函数存储训练好的模型\n",
    "    '''\n",
    "    joblib.dump(tfidf,'/home/user10000411/notespace/Embedding/models/tfidf_model')\n",
    "    print('save tfidf model')    \n",
    "\n",
    "    w2v.save('/home/user10000411/notespace/Embedding/models/w2v_model_50000')\n",
    "    print('save word2vec model')\n",
    "\n",
    "    fast.save('/home/user10000411/notespace/Embedding/models/fast_model')\n",
    "    print('save fast model')\n",
    "\n",
    "    \n",
    "saver()\n",
    "    "
   ]
  },
  {
   "cell_type": "code",
   "execution_count": 14,
   "metadata": {},
   "outputs": [
    {
     "name": "stdout",
     "output_type": "stream",
     "text": [
      "load tfidf_embedding model\n",
      "load w2v_embedding model\n",
      "load fast_embedding model\n"
     ]
    }
   ],
   "source": [
    "def load():\n",
    "    '''\n",
    "    函数说明：加载训练好的模型\n",
    "    '''\n",
    "    tfidf =  joblib.load('/home/user10000411/notespace/Embedding/models/tfidf_model')\n",
    "    print('load tfidf_embedding model')\n",
    "    w2v = models.KeyedVectors.load('/home/user10000411/notespace/Embedding/models/w2v_model_50000')\n",
    "    print('load w2v_embedding model')\n",
    "    fast = models.KeyedVectors.load('/home/user10000411/notespace/Embedding/models/fast_model')\n",
    "    print('load fast_embedding model')\n",
    "load()"
   ]
  }
 ],
 "metadata": {
  "kernelspec": {
   "display_name": "Python 3",
   "language": "python",
   "name": "python3"
  },
  "language_info": {
   "codemirror_mode": {
    "name": "ipython",
    "version": 3
   },
   "file_extension": ".py",
   "mimetype": "text/x-python",
   "name": "python",
   "nbconvert_exporter": "python",
   "pygments_lexer": "ipython3",
   "version": "3.7.6"
  }
 },
 "nbformat": 4,
 "nbformat_minor": 4
}
